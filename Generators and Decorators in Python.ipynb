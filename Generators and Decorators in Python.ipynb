{
 "cells": [
  {
   "cell_type": "markdown",
   "id": "f45e91df",
   "metadata": {},
   "source": [
    "# Learning Agenda of this Notebook:\n",
    "- When to use yield instead of return in Python?\n",
    "- Generators in Python\n",
    " >- Generator Function\n",
    " >- Generator Object\n",
    "- Decorators in Python\n",
    " >- Decorators with parameters in Python\n",
    " >- Memoization using decorators in Python\n"
   ]
  },
  {
   "cell_type": "markdown",
   "id": "1fd07f1a",
   "metadata": {},
   "source": [
    "## When to use `yield` instead of `return` keyword in python?"
   ]
  },
  {
   "cell_type": "markdown",
   "id": "a2d9fe90",
   "metadata": {},
   "source": [
    "**The yield statement `suspends` function’s execution and sends a value back to the `caller`, but retains enough state to enable function to `resume` where it is left off. When resumed, the function continues execution immediately after the last yield run. This allows its code to produce a `series of values` over time, rather than computing them at once and sending them back like a list.**"
   ]
  },
  {
   "cell_type": "code",
   "execution_count": 19,
   "id": "df4ea2b2",
   "metadata": {},
   "outputs": [
    {
     "name": "stdout",
     "output_type": "stream",
     "text": [
      "Ehtisham\n",
      "Ali\n",
      "Ayesha\n"
     ]
    }
   ],
   "source": [
    "# A generator function that yields 1 for the first time,2 second time and 3 third time\n",
    "def simpleGeneratorFun():\n",
    "    yield \"Ehtisham\"\n",
    "    yield \"Ali\"\n",
    "    yield \"Ayesha\"\n",
    "  \n",
    "# Driver code to check above generator function\n",
    "one  = simpleGeneratorFun()\n",
    "count = 0\n",
    "for i in one:\n",
    "    print(i)"
   ]
  },
  {
   "cell_type": "markdown",
   "id": "38ecc5bb",
   "metadata": {},
   "source": [
    "**`Return` sends a specified value back to its caller whereas `Yield` can produce a sequence of values. We should use yield when we want to iterate over a sequence, but don’t want to store the entire sequence in memory.**"
   ]
  },
  {
   "cell_type": "markdown",
   "id": "6e6930d4",
   "metadata": {},
   "source": [
    "**`Yield` are used in Python generators. A generator function is defined like a normal function, but whenever it needs to generate a value, it does so with the `yield` keyword rather than `return`. If the body of a def contains yield, the function automatically becomes a generator function.**"
   ]
  },
  {
   "cell_type": "code",
   "execution_count": 21,
   "id": "a9ed99dc",
   "metadata": {},
   "outputs": [
    {
     "name": "stdout",
     "output_type": "stream",
     "text": [
      "1\n",
      "4\n",
      "9\n",
      "16\n",
      "25\n",
      "36\n",
      "49\n",
      "64\n",
      "81\n",
      "100\n"
     ]
    }
   ],
   "source": [
    "# A Python program to generate squares from 1 to 100 using yield and therefore generator\n",
    "# An infinite generator function that prints next square number. It starts with 1\n",
    "def nextSquare():\n",
    "    i = 1\n",
    "    while True:\n",
    "        yield i*i\n",
    "        i = i+1\n",
    "            \n",
    "for num in nextSquare():\n",
    "    if num>100:\n",
    "        break\n",
    "    print(num)\n",
    "        "
   ]
  },
  {
   "cell_type": "code",
   "execution_count": null,
   "id": "f484f4d7",
   "metadata": {},
   "outputs": [],
   "source": []
  },
  {
   "cell_type": "markdown",
   "id": "e98494d3",
   "metadata": {},
   "source": [
    "## Generators in Python:\n",
    "- A generator-function is defined like a normal function, but whenever it needs to generate a value, it does so with the `yield` keyword rather than return. \n",
    "- If the body of a def contains `yield`, the function automatically becomes a generator function."
   ]
  },
  {
   "cell_type": "code",
   "execution_count": 22,
   "id": "4f90324e",
   "metadata": {},
   "outputs": [
    {
     "name": "stdout",
     "output_type": "stream",
     "text": [
      "Ehtisham\n",
      "Ali\n",
      "Ayesha\n"
     ]
    }
   ],
   "source": [
    "# A generator function that yields 1 for the first time,2 second time and 3 third time\n",
    "def simpleGeneratorFun():\n",
    "    yield \"Ehtisham\"\n",
    "    yield \"Ali\"\n",
    "    yield \"Ayesha\"\n",
    "  \n",
    "# Driver code to check above generator function\n",
    "one  = simpleGeneratorFun()\n",
    "count = 0\n",
    "for i in one:\n",
    "    print(i)"
   ]
  },
  {
   "cell_type": "markdown",
   "id": "412a0f13",
   "metadata": {},
   "source": [
    "### Generator-Object \n",
    "Generator functions return a generator `object`. Generator objects are used either by calling the `next()` or `__next__()` method on the generator object or using the generator object in a “for in” loop (as shown in the above program)."
   ]
  },
  {
   "cell_type": "code",
   "execution_count": 32,
   "id": "96d6defc",
   "metadata": {},
   "outputs": [
    {
     "name": "stdout",
     "output_type": "stream",
     "text": [
      "<generator object simpleGeneratorFun at 0x7f86faf85580>\n"
     ]
    },
    {
     "data": {
      "text/plain": [
       "'Ehtisham'"
      ]
     },
     "execution_count": 32,
     "metadata": {},
     "output_type": "execute_result"
    }
   ],
   "source": [
    "def simpleGeneratorFun():\n",
    "    yield \"Ehtisham\"\n",
    "    yield \"Ali\"\n",
    "    yield \"Ayesha\"\n",
    "    \n",
    "obj = simpleGeneratorFun()\n",
    "print(obj)\n",
    "obj.__next__()\n"
   ]
  },
  {
   "cell_type": "markdown",
   "id": "e154ec91",
   "metadata": {},
   "source": [
    "**So a generator function returns an generator object that is iterable, i.e., can be used as an `Iterators.`**"
   ]
  },
  {
   "cell_type": "code",
   "execution_count": null,
   "id": "14512613",
   "metadata": {},
   "outputs": [],
   "source": []
  },
  {
   "cell_type": "markdown",
   "id": "4271853b",
   "metadata": {},
   "source": [
    "### [Generators in Python ](https://www.geeksforgeeks.org/decorators-in-python/)"
   ]
  },
  {
   "cell_type": "code",
   "execution_count": null,
   "id": "44158f03",
   "metadata": {},
   "outputs": [],
   "source": []
  }
 ],
 "metadata": {
  "kernelspec": {
   "display_name": "Python 3 (ipykernel)",
   "language": "python",
   "name": "python3"
  },
  "language_info": {
   "codemirror_mode": {
    "name": "ipython",
    "version": 3
   },
   "file_extension": ".py",
   "mimetype": "text/x-python",
   "name": "python",
   "nbconvert_exporter": "python",
   "pygments_lexer": "ipython3",
   "version": "3.8.10"
  }
 },
 "nbformat": 4,
 "nbformat_minor": 5
}
