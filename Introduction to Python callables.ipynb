{
 "cells": [
  {
   "cell_type": "markdown",
   "id": "5d6e5540",
   "metadata": {},
   "source": [
    "# Introduction to Python callables"
   ]
  },
  {
   "cell_type": "markdown",
   "id": "3417ee8c",
   "metadata": {},
   "source": [
    "# Learning Agenda of this Notebook:\n",
    "- What is callable?\n",
    "- Python callable function examples\n",
    " >- built-in functions\n",
    " >- User-defined functions\n",
    " >- built-in methods\n",
    " >- Classes\n",
    " >- Methods\n",
    " >- Instances of a class \n"
   ]
  },
  {
   "cell_type": "markdown",
   "id": "eed8b1e0",
   "metadata": {},
   "source": [
    "## What is callable?\n",
    "- When you can call an object using the `()` operator, that object is callable:\n",
    "- For example, functions and methods are `callable`. In Python, many other objects are also callable.\n",
    "- A callable always returns a `value`.\n",
    "- To check if an object is callable, you can use the built-in function `callable`\n",
    "- The callable function accepts an `object`. It returns `True` if the object is callable. Otherwise, it returns `False`.\n"
   ]
  },
  {
   "cell_type": "code",
   "execution_count": 9,
   "id": "3d3d983f",
   "metadata": {},
   "outputs": [
    {
     "data": {
      "text/plain": [
       "True"
      ]
     },
     "execution_count": 9,
     "metadata": {},
     "output_type": "execute_result"
    }
   ],
   "source": [
    "# example of sorted function\n",
    "callable(sorted)"
   ]
  },
  {
   "cell_type": "markdown",
   "id": "c7f74c03",
   "metadata": {},
   "source": [
    "## Python callable function examples"
   ]
  },
  {
   "cell_type": "markdown",
   "id": "fb3b50d2",
   "metadata": {},
   "source": [
    "### 1. built-in functions\n",
    "All built-in functions are `callable`. For example, `print`, `len`, even `callable`."
   ]
  },
  {
   "cell_type": "code",
   "execution_count": 10,
   "id": "edbf1614",
   "metadata": {},
   "outputs": [
    {
     "name": "stdout",
     "output_type": "stream",
     "text": [
      "True\n",
      "True\n",
      "True\n"
     ]
    }
   ],
   "source": [
    "print(callable(print))\n",
    "print(callable(len))\n",
    "print(callable(callable))"
   ]
  },
  {
   "cell_type": "code",
   "execution_count": null,
   "id": "bb7ea97c",
   "metadata": {},
   "outputs": [],
   "source": []
  },
  {
   "cell_type": "markdown",
   "id": "32554d21",
   "metadata": {},
   "source": [
    "### 2. User-defined functions\n",
    "All user-defined functions created using `def or lambda` expressions are callable."
   ]
  },
  {
   "cell_type": "code",
   "execution_count": 11,
   "id": "88065a15",
   "metadata": {},
   "outputs": [
    {
     "name": "stdout",
     "output_type": "stream",
     "text": [
      "True\n",
      "True\n"
     ]
    }
   ],
   "source": [
    "def add(a,b):\n",
    "    return a+b\n",
    "\n",
    "print(callable(add))\n",
    "print(callable(lambda x :x**2))"
   ]
  },
  {
   "cell_type": "code",
   "execution_count": null,
   "id": "5a381e10",
   "metadata": {},
   "outputs": [],
   "source": []
  },
  {
   "cell_type": "markdown",
   "id": "d7ff6ca1",
   "metadata": {},
   "source": [
    "### 3. built-in methods\n",
    "The built-in method such as `a_str.upper`, `a_list.append` are callable."
   ]
  },
  {
   "cell_type": "code",
   "execution_count": 12,
   "id": "7b8612dc",
   "metadata": {},
   "outputs": [
    {
     "name": "stdout",
     "output_type": "stream",
     "text": [
      "True\n"
     ]
    }
   ],
   "source": [
    "string = \"Ehtisham Sadiq\"\n",
    "print(callable(string.isupper))"
   ]
  },
  {
   "cell_type": "code",
   "execution_count": null,
   "id": "cb31bbe9",
   "metadata": {},
   "outputs": [],
   "source": []
  },
  {
   "cell_type": "markdown",
   "id": "20f7c912",
   "metadata": {},
   "source": [
    "### Classes and methods\n",
    "All classes are `callable`. When you call a class, you get a new instance of the class. "
   ]
  },
  {
   "cell_type": "code",
   "execution_count": 30,
   "id": "a2830e63",
   "metadata": {},
   "outputs": [],
   "source": [
    "class Counter:\n",
    "    def __init__(self, start=1):\n",
    "        self.count = start\n",
    "        \n",
    "    def increase(self):\n",
    "        self.count = self.count+1\n",
    "    \n",
    "    def value(self):\n",
    "        return self.count"
   ]
  },
  {
   "cell_type": "markdown",
   "id": "d2ef3c68",
   "metadata": {},
   "source": [
    "Methods are functions bound to an object, therefore, they’re also callable. "
   ]
  },
  {
   "cell_type": "code",
   "execution_count": 31,
   "id": "c97c4a0a",
   "metadata": {},
   "outputs": [
    {
     "data": {
      "text/plain": [
       "True"
      ]
     },
     "execution_count": 31,
     "metadata": {},
     "output_type": "execute_result"
    }
   ],
   "source": [
    "callable(Counter.increase)"
   ]
  },
  {
   "cell_type": "code",
   "execution_count": null,
   "id": "068c4a11",
   "metadata": {},
   "outputs": [],
   "source": []
  },
  {
   "cell_type": "markdown",
   "id": "89a5c40a",
   "metadata": {},
   "source": [
    "### Instances of a class\n",
    "If a class implements the `__call__` method, all instances of the class are callable"
   ]
  },
  {
   "cell_type": "code",
   "execution_count": 38,
   "id": "ec3695fe",
   "metadata": {},
   "outputs": [
    {
     "data": {
      "text/plain": [
       "True"
      ]
     },
     "execution_count": 38,
     "metadata": {},
     "output_type": "execute_result"
    }
   ],
   "source": [
    "class Counter:\n",
    "    def __init__(self, start=1):\n",
    "        self.count = start\n",
    "        \n",
    "    def increase(self):\n",
    "        self.count = self.count+1\n",
    "    \n",
    "    def value(self):\n",
    "        return self.count\n",
    "    \n",
    "    def __call__(self):\n",
    "        self.increase()\n",
    "        \n",
    "counter = Counter()\n",
    "# counter()\n",
    "callable(counter)"
   ]
  },
  {
   "cell_type": "code",
   "execution_count": null,
   "id": "9234d613",
   "metadata": {},
   "outputs": [],
   "source": []
  },
  {
   "cell_type": "markdown",
   "id": "425d293f",
   "metadata": {},
   "source": [
    "## Summary\n",
    "- An `object` is `callable` when it can be called using the `()` operator.\n",
    "- Use the Python `callable` built-in function to check if an object is callable or not.\n"
   ]
  },
  {
   "cell_type": "code",
   "execution_count": null,
   "id": "95d3c06e",
   "metadata": {},
   "outputs": [],
   "source": []
  }
 ],
 "metadata": {
  "kernelspec": {
   "display_name": "Python 3 (ipykernel)",
   "language": "python",
   "name": "python3"
  },
  "language_info": {
   "codemirror_mode": {
    "name": "ipython",
    "version": 3
   },
   "file_extension": ".py",
   "mimetype": "text/x-python",
   "name": "python",
   "nbconvert_exporter": "python",
   "pygments_lexer": "ipython3",
   "version": "3.8.10"
  }
 },
 "nbformat": 4,
 "nbformat_minor": 5
}
