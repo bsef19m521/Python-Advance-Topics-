{
 "cells": [
  {
   "cell_type": "markdown",
   "id": "17c7d699",
   "metadata": {},
   "source": [
    "# Learning Agenda of this Notebook :\n",
    "- `__init__` method in Python\n",
    "- `self` in Python Class\n",
    "- `constructor` in Python\n",
    "- `destructor` in Python"
   ]
  },
  {
   "cell_type": "markdown",
   "id": "5c32fbaf",
   "metadata": {},
   "source": [
    "# `__init__` method in Python"
   ]
  },
  {
   "cell_type": "code",
   "execution_count": null,
   "id": "8b3fe787",
   "metadata": {},
   "outputs": [],
   "source": []
  },
  {
   "cell_type": "markdown",
   "id": "7c174548",
   "metadata": {},
   "source": [
    "**The __init__ method is similar to `constructors` in C++ and Java. Constructors are used to initialize the `object’s state`. The task of constructors is to initialize(assign values) to `the data members` of the class when an object of class is created. Like methods, a constructor also contains collection of statements(i.e. instructions) that are executed at time of `Object creation`. It is run as soon as an object of a class is `instantiated`. The method is useful to do any initialization you want to do with your object.**"
   ]
  },
  {
   "cell_type": "code",
   "execution_count": null,
   "id": "eb9e94bc",
   "metadata": {},
   "outputs": [],
   "source": []
  },
  {
   "cell_type": "code",
   "execution_count": 1,
   "id": "9b619730",
   "metadata": {},
   "outputs": [
    {
     "name": "stdout",
     "output_type": "stream",
     "text": [
      "This class contains the information related to students!\n"
     ]
    }
   ],
   "source": [
    "class Student:\n",
    "    def __init__(self):\n",
    "        print(\"This class contains the information related to students!\")\n",
    "        \n",
    "obj =Student() # creation of object or instantiated of object of a class"
   ]
  },
  {
   "cell_type": "code",
   "execution_count": 2,
   "id": "400777f2",
   "metadata": {},
   "outputs": [
    {
     "name": "stdout",
     "output_type": "stream",
     "text": [
      "This class contains the information related to students!\n"
     ]
    }
   ],
   "source": [
    "obj2 = Student()"
   ]
  },
  {
   "cell_type": "code",
   "execution_count": null,
   "id": "87bc9ed4",
   "metadata": {},
   "outputs": [],
   "source": []
  },
  {
   "cell_type": "code",
   "execution_count": null,
   "id": "bcc83347",
   "metadata": {},
   "outputs": [],
   "source": []
  },
  {
   "cell_type": "code",
   "execution_count": 3,
   "id": "aa127a98",
   "metadata": {},
   "outputs": [
    {
     "name": "stdout",
     "output_type": "stream",
     "text": [
      "This class contains information related to cars\n",
      "Information like model number, color etc\n"
     ]
    }
   ],
   "source": [
    "# Example of another class \n",
    "class Car:\n",
    "    def __init__(self):\n",
    "        print(\"This class contains information related to cars\")\n",
    "        print(\"Information like model number, color etc\")\n",
    "        \n",
    "car1 = Car()  # creation of object or instantiated of object of a class"
   ]
  },
  {
   "cell_type": "code",
   "execution_count": 4,
   "id": "c85a3e5e",
   "metadata": {},
   "outputs": [
    {
     "name": "stdout",
     "output_type": "stream",
     "text": [
      "This class contains information related to cars\n",
      "Information like model number, color etc\n"
     ]
    }
   ],
   "source": [
    "car2 = Car()"
   ]
  },
  {
   "cell_type": "code",
   "execution_count": null,
   "id": "0b7c1f37",
   "metadata": {},
   "outputs": [],
   "source": []
  },
  {
   "cell_type": "code",
   "execution_count": 11,
   "id": "197aba48",
   "metadata": {},
   "outputs": [
    {
     "name": "stdout",
     "output_type": "stream",
     "text": [
      "Ehtisham\n",
      "Hello, my name is :  Ehtisham\n"
     ]
    }
   ],
   "source": [
    "# another example of Person class\n",
    "class Person:\n",
    "    def __init__(self, name):\n",
    "        self.PersonName = name\n",
    "        \n",
    "    def say_hi(self):\n",
    "        print(\"Hello, my name is : \", self.PersonName)\n",
    "        \n",
    "p1 = Person(\"Ehtisham\")\n",
    "print(p1.PersonName)\n",
    "p1.say_hi()"
   ]
  },
  {
   "cell_type": "markdown",
   "id": "caede233",
   "metadata": {},
   "source": [
    "#### Explanation of above example:\n",
    "In the above example, a person name `Ehtisham` is created. \n",
    "While creating a person, `Ehtisham` is passed as an argument, this argument will be passed to the `__init__` method to initialize the object. \n",
    "The keyword self represents the instance of a class and binds the attributes `PersonName` with the given arguments `name`. \n",
    "Similarly, many objects of Person class can be created by passing different names as arguments."
   ]
  },
  {
   "cell_type": "code",
   "execution_count": 12,
   "id": "80bb871f",
   "metadata": {},
   "outputs": [
    {
     "name": "stdout",
     "output_type": "stream",
     "text": [
      "Hello, my name is :  Ali\n",
      "Hello, my name is :  Ayesha\n",
      "Hello, my name is :  Dua\n",
      "Hello, my name is :  Azka\n"
     ]
    }
   ],
   "source": [
    "p2 = Person(\"Ali\")\n",
    "p3 = Person(\"Ayesha\")\n",
    "p4 = Person(\"Dua\")\n",
    "p5 = Person(\"Azka\")\n",
    "p2.say_hi()\n",
    "p3.say_hi()\n",
    "p4.say_hi()\n",
    "p5.say_hi()"
   ]
  },
  {
   "cell_type": "code",
   "execution_count": null,
   "id": "5db1bd1b",
   "metadata": {},
   "outputs": [],
   "source": []
  },
  {
   "cell_type": "markdown",
   "id": "2bc2eac1",
   "metadata": {},
   "source": [
    "# self in Python class"
   ]
  },
  {
   "cell_type": "markdown",
   "id": "b7208114",
   "metadata": {},
   "source": [
    "**self represents the `instance` of the class. By using the `self`  we can access the attributes and methods of the class in python. \n",
    "It binds the `attributes` with the given arguments.\n",
    "The reason you need to use self. is because Python does not use the `@ syntax` to refer to `instance` attributes. \n",
    "Python decided to do methods in a way that makes the instance to which the method belongs be passed automatically, but not received automatically: the first parameter of methods is the instance the method is called on.\n",
    "In more clear way you can say that SELF has following Characteristic-**\n",
    "#### **Self is always pointing to Current Object.**"
   ]
  },
  {
   "cell_type": "code",
   "execution_count": null,
   "id": "f3c314dc",
   "metadata": {},
   "outputs": [],
   "source": []
  },
  {
   "cell_type": "code",
   "execution_count": 14,
   "id": "9f8280f5",
   "metadata": {},
   "outputs": [
    {
     "name": "stdout",
     "output_type": "stream",
     "text": [
      "Address of self :  140382936591424\n",
      "Address of class object :  140382936591424\n"
     ]
    }
   ],
   "source": [
    "#it is clearly seen that self and obj is referring to the same object\n",
    "class Check:\n",
    "    def __init__(self):\n",
    "        print(\"Address of self : \", id(self))\n",
    "        \n",
    "check1 = Check()\n",
    "print(\"Address of class object : \", id(check1))"
   ]
  },
  {
   "cell_type": "code",
   "execution_count": null,
   "id": "41b53e12",
   "metadata": {},
   "outputs": [],
   "source": []
  },
  {
   "cell_type": "code",
   "execution_count": 18,
   "id": "8bcdff5b",
   "metadata": {},
   "outputs": [
    {
     "name": "stdout",
     "output_type": "stream",
     "text": [
      "Information related to object 1 : \n",
      "Car model :  Audi A4\n",
      "Car color :  Blue\n",
      "\n",
      "\n",
      "\n",
      "Information related to object 2 : \n",
      "Car model :  ferrari 488\n",
      "Car color :  Green\n"
     ]
    }
   ],
   "source": [
    "# Another example\n",
    "class Car:\n",
    "    def __init__(self, model, color):\n",
    "        self.ml = model\n",
    "        self.cl = color\n",
    "        \n",
    "    def show(self):\n",
    "        print(\"Car model : \", self.ml)\n",
    "        print(\"Car color : \", self.cl)\n",
    "        \n",
    "# creation of class object\n",
    "car1 = Car(\"Audi A4\", \"Blue\")\n",
    "car2 = Car(\"ferrari 488\", \"Green\")\n",
    "print(\"Information related to object 1 : \")\n",
    "car1.show()\n",
    "\n",
    "print(\"\\n\\n\")\n",
    "print(\"Information related to object 2 : \")\n",
    "car2.show()"
   ]
  },
  {
   "cell_type": "markdown",
   "id": "c33438e9",
   "metadata": {},
   "source": [
    "**Self is the first argument to be passed in Constructor and Instance Method.**"
   ]
  },
  {
   "cell_type": "code",
   "execution_count": null,
   "id": "4155200a",
   "metadata": {},
   "outputs": [],
   "source": []
  },
  {
   "cell_type": "markdown",
   "id": "908583d3",
   "metadata": {},
   "source": [
    "**`Self` must be provided as a First parameter to the Instance method and constructor. If you don’t provide it, it will cause an error. Self is a convention and not a Python keyword .**"
   ]
  },
  {
   "cell_type": "code",
   "execution_count": 21,
   "id": "b12f305d",
   "metadata": {},
   "outputs": [
    {
     "ename": "TypeError",
     "evalue": "__init__() takes 0 positional arguments but 1 was given",
     "output_type": "error",
     "traceback": [
      "\u001b[0;31m---------------------------------------------------------------------------\u001b[0m",
      "\u001b[0;31mTypeError\u001b[0m                                 Traceback (most recent call last)",
      "Input \u001b[0;32mIn [21]\u001b[0m, in \u001b[0;36m<cell line: 4>\u001b[0;34m()\u001b[0m\n\u001b[1;32m      2\u001b[0m     \u001b[38;5;28;01mdef\u001b[39;00m \u001b[38;5;21m__init__\u001b[39m():\n\u001b[1;32m      3\u001b[0m         \u001b[38;5;28mprint\u001b[39m(\u001b[38;5;124m\"\u001b[39m\u001b[38;5;124mThis is a constructor!\u001b[39m\u001b[38;5;124m\"\u001b[39m)\n\u001b[0;32m----> 4\u001b[0m check1 \u001b[38;5;241m=\u001b[39m \u001b[43mCheck\u001b[49m\u001b[43m(\u001b[49m\u001b[43m)\u001b[49m\n",
      "\u001b[0;31mTypeError\u001b[0m: __init__() takes 0 positional arguments but 1 was given"
     ]
    }
   ],
   "source": [
    "class Check:\n",
    "    def __init__():\n",
    "        print(\"This is a constructor!\")\n",
    "check1 = Check()"
   ]
  },
  {
   "cell_type": "markdown",
   "id": "31139c50",
   "metadata": {},
   "source": [
    "**`self` is parameter in Instance Method and user can use another parameter name in place of it. But it is advisable to use self because it increases the readability of code, and it is also a good programming practice.**"
   ]
  },
  {
   "cell_type": "code",
   "execution_count": 23,
   "id": "28a68447",
   "metadata": {},
   "outputs": [
    {
     "name": "stdout",
     "output_type": "stream",
     "text": [
      "This is a constructor of the class!, and we have used another parameter name in place of self\n"
     ]
    }
   ],
   "source": [
    "class Check:\n",
    "    def __init__(one):\n",
    "        print(\"This is a constructor of the class!, and we have used another parameter name in place of self\")\n",
    "# creation of the object of the class\n",
    "check1 = Check()"
   ]
  },
  {
   "cell_type": "code",
   "execution_count": null,
   "id": "259be322",
   "metadata": {},
   "outputs": [],
   "source": []
  },
  {
   "cell_type": "markdown",
   "id": "f1c7cb96",
   "metadata": {},
   "source": [
    "# Constructor in Python"
   ]
  },
  {
   "cell_type": "markdown",
   "id": "bac5641b",
   "metadata": {},
   "source": [
    "**Constructors are generally used for instantiating an `object`. \n",
    "The task of constructors is to initialize(assign values) to the `data members` of the class when an object of the class is created. \n",
    "In Python the `__init__()` method is called the constructor and is always called when an object is created.**\n",
    "### Syntax of constructor declaration : "
   ]
  },
  {
   "cell_type": "code",
   "execution_count": null,
   "id": "c882fcc2",
   "metadata": {},
   "outputs": [],
   "source": [
    "def __init__(self):      \n",
    "    # body of the constructor"
   ]
  },
  {
   "cell_type": "markdown",
   "id": "9dc5c567",
   "metadata": {},
   "source": [
    "### Types of constructors : \n",
    "#### default constructor: \n",
    "- The default constructor is a simple constructor which doesn’t accept any arguments. \n",
    "- Its definition has only one argument which is a reference(self) to the instance being constructed.\n",
    "#### parameterized constructor: \n",
    "- constructor with parameters is known as parameterized constructor. \n",
    "- The parameterized constructor takes its first argument as a reference to the instance being constructed known as self and the rest of the arguments are provided by the programmer."
   ]
  },
  {
   "cell_type": "code",
   "execution_count": 24,
   "id": "8e04c8cc",
   "metadata": {},
   "outputs": [
    {
     "name": "stdout",
     "output_type": "stream",
     "text": [
      "Ehtisham Sadiq\n"
     ]
    }
   ],
   "source": [
    "# Example of default constructor \n",
    "class Check:\n",
    "    def __init__(self):\n",
    "        self.name = \"Ehtisham Sadiq\"\n",
    "        \n",
    "    def display(self):\n",
    "        print(self.name)\n",
    "        \n",
    "# creation of object\n",
    "obj1 = Check()\n",
    "obj1.display()"
   ]
  },
  {
   "cell_type": "code",
   "execution_count": null,
   "id": "512c91c5",
   "metadata": {},
   "outputs": [],
   "source": []
  },
  {
   "cell_type": "code",
   "execution_count": 27,
   "id": "b2816932",
   "metadata": {},
   "outputs": [
    {
     "name": "stdout",
     "output_type": "stream",
     "text": [
      "First Number :  45\n",
      "Second Number :  55\n",
      "Addition of two numbers :  100\n"
     ]
    }
   ],
   "source": [
    "# Example of the parameterized constructor \n",
    "class Addition:\n",
    "    f = 0\n",
    "    s = 0\n",
    "    add = 0\n",
    "    def __init__(self, first, second):\n",
    "        self.f = first\n",
    "        self.s = second\n",
    "        \n",
    "    def calculate(self):\n",
    "        self.add = self.f + self.s\n",
    "        \n",
    "    \n",
    "    def display(self):\n",
    "        print(\"First Number : \", str(self.f))\n",
    "        print(\"Second Number : \", str(self.s))\n",
    "        print(\"Addition of two numbers : \", str(self.add))\n",
    "        \n",
    "# creation of object\n",
    "obj1 = Addition(45,55)\n",
    "obj1.calculate()\n",
    "obj1.display()"
   ]
  },
  {
   "cell_type": "code",
   "execution_count": null,
   "id": "f2d68026",
   "metadata": {},
   "outputs": [],
   "source": []
  },
  {
   "cell_type": "markdown",
   "id": "82dba31a",
   "metadata": {},
   "source": [
    "# Destructors in Python"
   ]
  },
  {
   "cell_type": "markdown",
   "id": "60000e33",
   "metadata": {},
   "source": [
    "**Destructors are called when an `object` gets destroyed. In Python, destructors are not needed as much as in C++ because Python has a garbage collector that handles memory management automatically. \n",
    "The `__del__()` method is a known as a destructor method in Python. It is called when all references to the object have been deleted i.e when an object is garbage collected.**"
   ]
  },
  {
   "cell_type": "markdown",
   "id": "08d84f4c",
   "metadata": {},
   "source": [
    "### Syntax of destructor declaration : "
   ]
  },
  {
   "cell_type": "code",
   "execution_count": 29,
   "id": "9f5cece9",
   "metadata": {},
   "outputs": [],
   "source": [
    "def __del__(self):\n",
    "  # body of destructor"
   ]
  },
  {
   "cell_type": "code",
   "execution_count": 33,
   "id": "73d694d2",
   "metadata": {},
   "outputs": [],
   "source": [
    "class Student:\n",
    "    def __init__(self):\n",
    "        print(\"This is constructor of class which will execute when object of the class is created!\")\n",
    "    def __del__(self):\n",
    "        print(\"Destructor is called when object of a class is deleted!\")"
   ]
  },
  {
   "cell_type": "code",
   "execution_count": 34,
   "id": "3eab8641",
   "metadata": {},
   "outputs": [
    {
     "name": "stdout",
     "output_type": "stream",
     "text": [
      "This is constructor of class which will execute when object of the class is created!\n"
     ]
    }
   ],
   "source": [
    "obj1 = Student()"
   ]
  },
  {
   "cell_type": "code",
   "execution_count": 35,
   "id": "c0b57848",
   "metadata": {},
   "outputs": [
    {
     "name": "stdout",
     "output_type": "stream",
     "text": [
      "Destructor is called when object of a class is deleted!\n"
     ]
    }
   ],
   "source": [
    "del obj1"
   ]
  },
  {
   "cell_type": "code",
   "execution_count": null,
   "id": "d082d961",
   "metadata": {},
   "outputs": [],
   "source": []
  }
 ],
 "metadata": {
  "kernelspec": {
   "display_name": "Python 3 (ipykernel)",
   "language": "python",
   "name": "python3"
  },
  "language_info": {
   "codemirror_mode": {
    "name": "ipython",
    "version": 3
   },
   "file_extension": ".py",
   "mimetype": "text/x-python",
   "name": "python",
   "nbconvert_exporter": "python",
   "pygments_lexer": "ipython3",
   "version": "3.8.10"
  }
 },
 "nbformat": 4,
 "nbformat_minor": 5
}
